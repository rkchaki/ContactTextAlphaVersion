{
 "cells": [
  {
   "cell_type": "code",
   "execution_count": 1,
   "id": "b2d0f689",
   "metadata": {},
   "outputs": [
    {
     "name": "stdout",
     "output_type": "stream",
     "text": [
      "Welcome to contact\n",
      "Challenger enter your word: code\n",
      "The first letter is c\n"
     ]
    }
   ],
   "source": [
    "print(\"Welcome to contact\")\n",
    "word = input(\"Challenger enter your word: \")\n",
    "print(\"The first letter is \" + word[0])\n"
   ]
  },
  {
   "cell_type": "code",
   "execution_count": 2,
   "id": "c2a615da",
   "metadata": {
    "scrolled": true
   },
   "outputs": [
    {
     "name": "stdout",
     "output_type": "stream",
     "text": [
      "How many contestants are there2\n",
      "Welcome all 2 players\n",
      "Player 0, what is your name?Peter\n",
      "Player 1, what is your name?Rohit\n"
     ]
    }
   ],
   "source": [
    "numPlayers = int(input(\"How many contestants are there\"))\n",
    "print(\"Welcome all \" + str(numPlayers) + \" players\")\n",
    "name = []\n",
    "for i in range (0, numPlayers):\n",
    "    name.append(input(\"Player \" + str(i) + \", what is your name?\"))"
   ]
  },
  {
   "cell_type": "code",
   "execution_count": 3,
   "id": "014da636",
   "metadata": {
    "scrolled": true
   },
   "outputs": [
    {
     "name": "stdout",
     "output_type": "stream",
     "text": [
      "Welcome!!! \n",
      "Peter\n",
      "Rohit\n"
     ]
    }
   ],
   "source": [
    "print(\"Welcome!!! \")\n",
    "for i in range(0, numPlayers):\n",
    "    print(name[i])"
   ]
  },
  {
   "cell_type": "code",
   "execution_count": 4,
   "id": "1057228a",
   "metadata": {},
   "outputs": [],
   "source": [
    "def match(guess, i):\n",
    "    for x in range(0, len(guess)):\n",
    "        if guess[x]==guess[i]:\n",
    "            return True"
   ]
  },
  {
   "cell_type": "code",
   "execution_count": null,
   "id": "20d47092",
   "metadata": {},
   "outputs": [
    {
     "name": "stdout",
     "output_type": "stream",
     "text": [
      "So far we have c\n",
      "Type any word or 'c' for contact c\n",
      "We have a contact challenge\n",
      "Peter what is your guess?cat\n",
      "Rohit what is your guess?cats\n",
      "[0, 1]\n",
      "Congratulations we have contact!!!!\n",
      "The next letter is... o\n",
      "So far we have co\n"
     ]
    }
   ],
   "source": [
    "guess = []\n",
    "numLetter = 0\n",
    "numEligibleGuesses = []\n",
    "while True:\n",
    "    print(\"So far we have \" + word[0:numLetter+1])\n",
    "    inputGuess = input(\"Type any word or 'c' for contact \")\n",
    "    if inputGuess == word:\n",
    "        break\n",
    "    elif inputGuess == 'c':\n",
    "        print(\"We have a contact challenge\")\n",
    "        for i in range(0, numPlayers):\n",
    "            guess.append(input(name[i] + \" what is your guess?\" ))\n",
    "            if guess[i][0:numLetter+1] == word[0:numLetter+1]:\n",
    "                numEligibleGuesses.append(i)\n",
    "                if guess[i] == word:\n",
    "                    break\n",
    "        print(numEligibleGuesses)\n",
    "        for i in numEligibleGuesses:\n",
    "            if match(guess, i):\n",
    "                numLetter += 1\n",
    "                print(\"Congratulations we have contact!!!!\")\n",
    "                print(\"The next letter is... \" + word[numLetter])\n",
    "                if numLetter == len(word):\n",
    "                    break\n",
    "            break\n",
    "        guess = []\n",
    "print(\"Congrats the word is \" + word)"
   ]
  },
  {
   "cell_type": "code",
   "execution_count": null,
   "id": "452ddd94",
   "metadata": {
    "scrolled": true
   },
   "outputs": [],
   "source": []
  },
  {
   "cell_type": "code",
   "execution_count": null,
   "id": "b6e5b4a8",
   "metadata": {},
   "outputs": [],
   "source": []
  },
  {
   "cell_type": "code",
   "execution_count": null,
   "id": "a3c110e0",
   "metadata": {},
   "outputs": [],
   "source": []
  }
 ],
 "metadata": {
  "kernelspec": {
   "display_name": "Python 3 (ipykernel)",
   "language": "python",
   "name": "python3"
  },
  "language_info": {
   "codemirror_mode": {
    "name": "ipython",
    "version": 3
   },
   "file_extension": ".py",
   "mimetype": "text/x-python",
   "name": "python",
   "nbconvert_exporter": "python",
   "pygments_lexer": "ipython3",
   "version": "3.9.7"
  }
 },
 "nbformat": 4,
 "nbformat_minor": 5
}
